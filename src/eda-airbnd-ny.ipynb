{
 "cells": [
  {
   "cell_type": "markdown",
   "id": "c14e49f7",
   "metadata": {},
   "source": [
    "# EDA\n",
    "\n",
    "> fuente: Airbnd New York"
   ]
  },
  {
   "cell_type": "code",
   "execution_count": 1,
   "id": "ad05596b",
   "metadata": {},
   "outputs": [],
   "source": [
    "import numpy as np\n",
    "import pandas as pd"
   ]
  }
 ],
 "metadata": {
  "kernelspec": {
   "display_name": "Python 3",
   "language": "python",
   "name": "python3"
  },
  "language_info": {
   "codemirror_mode": {
    "name": "ipython",
    "version": 3
   },
   "file_extension": ".py",
   "mimetype": "text/x-python",
   "name": "python",
   "nbconvert_exporter": "python",
   "pygments_lexer": "ipython3",
   "version": "3.11.4"
  }
 },
 "nbformat": 4,
 "nbformat_minor": 5
}
